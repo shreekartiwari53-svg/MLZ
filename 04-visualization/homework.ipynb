{
 "cells": [
  {
   "cell_type": "code",
   "execution_count": 1,
   "id": "3518a62b-ad64-41b8-9a13-db6ad87912f8",
   "metadata": {},
   "outputs": [
    {
     "name": "stdout",
     "output_type": "stream",
     "text": [
      "--2025-10-19 16:10:09--  https://raw.githubusercontent.com/alexeygrigorev/datasets/master/course_lead_scoring.csv\n",
      "Resolving raw.githubusercontent.com (raw.githubusercontent.com)... 185.199.109.133, 185.199.110.133, 185.199.111.133, ...\n",
      "Connecting to raw.githubusercontent.com (raw.githubusercontent.com)|185.199.109.133|:443... connected.\n",
      "HTTP request sent, awaiting response... 200 OK\n",
      "Length: 80876 (79K) [text/plain]\n",
      "Saving to: ‘course_lead_scoring.csv’\n",
      "\n",
      "course_lead_scoring 100%[===================>]  78.98K  --.-KB/s    in 0.001s  \n",
      "\n",
      "2025-10-19 16:10:09 (60.6 MB/s) - ‘course_lead_scoring.csv’ saved [80876/80876]\n",
      "\n"
     ]
    }
   ],
   "source": [
    "!wget \"https://raw.githubusercontent.com/alexeygrigorev/datasets/master/course_lead_scoring.csv\""
   ]
  },
  {
   "cell_type": "code",
   "execution_count": 2,
   "id": "9da16cf5-ae97-4646-9a8d-c4dce869528d",
   "metadata": {},
   "outputs": [],
   "source": [
    "import pandas as pd\n",
    "import numpy as np\n",
    "import matplotlib.pyplot as plt"
   ]
  },
  {
   "cell_type": "code",
   "execution_count": 3,
   "id": "dfbe0be0-aac7-452f-abff-48877354fa38",
   "metadata": {},
   "outputs": [
    {
     "data": {
      "text/html": [
       "<div>\n",
       "<style scoped>\n",
       "    .dataframe tbody tr th:only-of-type {\n",
       "        vertical-align: middle;\n",
       "    }\n",
       "\n",
       "    .dataframe tbody tr th {\n",
       "        vertical-align: top;\n",
       "    }\n",
       "\n",
       "    .dataframe thead th {\n",
       "        text-align: right;\n",
       "    }\n",
       "</style>\n",
       "<table border=\"1\" class=\"dataframe\">\n",
       "  <thead>\n",
       "    <tr style=\"text-align: right;\">\n",
       "      <th></th>\n",
       "      <th>lead_source</th>\n",
       "      <th>industry</th>\n",
       "      <th>number_of_courses_viewed</th>\n",
       "      <th>annual_income</th>\n",
       "      <th>employment_status</th>\n",
       "      <th>location</th>\n",
       "      <th>interaction_count</th>\n",
       "      <th>lead_score</th>\n",
       "      <th>converted</th>\n",
       "    </tr>\n",
       "  </thead>\n",
       "  <tbody>\n",
       "    <tr>\n",
       "      <th>0</th>\n",
       "      <td>paid_ads</td>\n",
       "      <td>NaN</td>\n",
       "      <td>1</td>\n",
       "      <td>79450.0</td>\n",
       "      <td>unemployed</td>\n",
       "      <td>south_america</td>\n",
       "      <td>4</td>\n",
       "      <td>0.94</td>\n",
       "      <td>1</td>\n",
       "    </tr>\n",
       "    <tr>\n",
       "      <th>1</th>\n",
       "      <td>social_media</td>\n",
       "      <td>retail</td>\n",
       "      <td>1</td>\n",
       "      <td>46992.0</td>\n",
       "      <td>employed</td>\n",
       "      <td>south_america</td>\n",
       "      <td>1</td>\n",
       "      <td>0.80</td>\n",
       "      <td>0</td>\n",
       "    </tr>\n",
       "    <tr>\n",
       "      <th>2</th>\n",
       "      <td>events</td>\n",
       "      <td>healthcare</td>\n",
       "      <td>5</td>\n",
       "      <td>78796.0</td>\n",
       "      <td>unemployed</td>\n",
       "      <td>australia</td>\n",
       "      <td>3</td>\n",
       "      <td>0.69</td>\n",
       "      <td>1</td>\n",
       "    </tr>\n",
       "    <tr>\n",
       "      <th>3</th>\n",
       "      <td>paid_ads</td>\n",
       "      <td>retail</td>\n",
       "      <td>2</td>\n",
       "      <td>83843.0</td>\n",
       "      <td>NaN</td>\n",
       "      <td>australia</td>\n",
       "      <td>1</td>\n",
       "      <td>0.87</td>\n",
       "      <td>0</td>\n",
       "    </tr>\n",
       "    <tr>\n",
       "      <th>4</th>\n",
       "      <td>referral</td>\n",
       "      <td>education</td>\n",
       "      <td>3</td>\n",
       "      <td>85012.0</td>\n",
       "      <td>self_employed</td>\n",
       "      <td>europe</td>\n",
       "      <td>3</td>\n",
       "      <td>0.62</td>\n",
       "      <td>1</td>\n",
       "    </tr>\n",
       "  </tbody>\n",
       "</table>\n",
       "</div>"
      ],
      "text/plain": [
       "    lead_source    industry  number_of_courses_viewed  annual_income  \\\n",
       "0      paid_ads         NaN                         1        79450.0   \n",
       "1  social_media      retail                         1        46992.0   \n",
       "2        events  healthcare                         5        78796.0   \n",
       "3      paid_ads      retail                         2        83843.0   \n",
       "4      referral   education                         3        85012.0   \n",
       "\n",
       "  employment_status       location  interaction_count  lead_score  converted  \n",
       "0        unemployed  south_america                  4        0.94          1  \n",
       "1          employed  south_america                  1        0.80          0  \n",
       "2        unemployed      australia                  3        0.69          1  \n",
       "3               NaN      australia                  1        0.87          0  \n",
       "4     self_employed         europe                  3        0.62          1  "
      ]
     },
     "execution_count": 3,
     "metadata": {},
     "output_type": "execute_result"
    }
   ],
   "source": [
    "df=pd.read_csv('course_lead_scoring.csv')\n",
    "df.head()"
   ]
  },
  {
   "cell_type": "code",
   "execution_count": 4,
   "id": "33f3510e-e0f4-469a-95b6-03bd48f7c03f",
   "metadata": {},
   "outputs": [
    {
     "data": {
      "text/html": [
       "<div>\n",
       "<style scoped>\n",
       "    .dataframe tbody tr th:only-of-type {\n",
       "        vertical-align: middle;\n",
       "    }\n",
       "\n",
       "    .dataframe tbody tr th {\n",
       "        vertical-align: top;\n",
       "    }\n",
       "\n",
       "    .dataframe thead th {\n",
       "        text-align: right;\n",
       "    }\n",
       "</style>\n",
       "<table border=\"1\" class=\"dataframe\">\n",
       "  <thead>\n",
       "    <tr style=\"text-align: right;\">\n",
       "      <th></th>\n",
       "      <th>0</th>\n",
       "      <th>1</th>\n",
       "      <th>2</th>\n",
       "      <th>3</th>\n",
       "      <th>4</th>\n",
       "    </tr>\n",
       "  </thead>\n",
       "  <tbody>\n",
       "    <tr>\n",
       "      <th>lead_source</th>\n",
       "      <td>paid_ads</td>\n",
       "      <td>social_media</td>\n",
       "      <td>events</td>\n",
       "      <td>paid_ads</td>\n",
       "      <td>referral</td>\n",
       "    </tr>\n",
       "    <tr>\n",
       "      <th>industry</th>\n",
       "      <td>NaN</td>\n",
       "      <td>retail</td>\n",
       "      <td>healthcare</td>\n",
       "      <td>retail</td>\n",
       "      <td>education</td>\n",
       "    </tr>\n",
       "    <tr>\n",
       "      <th>number_of_courses_viewed</th>\n",
       "      <td>1</td>\n",
       "      <td>1</td>\n",
       "      <td>5</td>\n",
       "      <td>2</td>\n",
       "      <td>3</td>\n",
       "    </tr>\n",
       "    <tr>\n",
       "      <th>annual_income</th>\n",
       "      <td>79450.0</td>\n",
       "      <td>46992.0</td>\n",
       "      <td>78796.0</td>\n",
       "      <td>83843.0</td>\n",
       "      <td>85012.0</td>\n",
       "    </tr>\n",
       "    <tr>\n",
       "      <th>employment_status</th>\n",
       "      <td>unemployed</td>\n",
       "      <td>employed</td>\n",
       "      <td>unemployed</td>\n",
       "      <td>NaN</td>\n",
       "      <td>self_employed</td>\n",
       "    </tr>\n",
       "    <tr>\n",
       "      <th>location</th>\n",
       "      <td>south_america</td>\n",
       "      <td>south_america</td>\n",
       "      <td>australia</td>\n",
       "      <td>australia</td>\n",
       "      <td>europe</td>\n",
       "    </tr>\n",
       "    <tr>\n",
       "      <th>interaction_count</th>\n",
       "      <td>4</td>\n",
       "      <td>1</td>\n",
       "      <td>3</td>\n",
       "      <td>1</td>\n",
       "      <td>3</td>\n",
       "    </tr>\n",
       "    <tr>\n",
       "      <th>lead_score</th>\n",
       "      <td>0.94</td>\n",
       "      <td>0.8</td>\n",
       "      <td>0.69</td>\n",
       "      <td>0.87</td>\n",
       "      <td>0.62</td>\n",
       "    </tr>\n",
       "    <tr>\n",
       "      <th>converted</th>\n",
       "      <td>1</td>\n",
       "      <td>0</td>\n",
       "      <td>1</td>\n",
       "      <td>0</td>\n",
       "      <td>1</td>\n",
       "    </tr>\n",
       "  </tbody>\n",
       "</table>\n",
       "</div>"
      ],
      "text/plain": [
       "                                      0              1           2          3  \\\n",
       "lead_source                    paid_ads   social_media      events   paid_ads   \n",
       "industry                            NaN         retail  healthcare     retail   \n",
       "number_of_courses_viewed              1              1           5          2   \n",
       "annual_income                   79450.0        46992.0     78796.0    83843.0   \n",
       "employment_status            unemployed       employed  unemployed        NaN   \n",
       "location                  south_america  south_america   australia  australia   \n",
       "interaction_count                     4              1           3          1   \n",
       "lead_score                         0.94            0.8        0.69       0.87   \n",
       "converted                             1              0           1          0   \n",
       "\n",
       "                                      4  \n",
       "lead_source                    referral  \n",
       "industry                      education  \n",
       "number_of_courses_viewed              3  \n",
       "annual_income                   85012.0  \n",
       "employment_status         self_employed  \n",
       "location                         europe  \n",
       "interaction_count                     3  \n",
       "lead_score                         0.62  \n",
       "converted                             1  "
      ]
     },
     "execution_count": 4,
     "metadata": {},
     "output_type": "execute_result"
    }
   ],
   "source": [
    "df.head().T"
   ]
  },
  {
   "cell_type": "code",
   "execution_count": 5,
   "id": "f2c9f1ce-e349-4cfd-a0ef-ca9e1abf5f6a",
   "metadata": {},
   "outputs": [
    {
     "data": {
      "text/plain": [
       "lead_source                 128\n",
       "industry                    134\n",
       "number_of_courses_viewed      0\n",
       "annual_income               181\n",
       "employment_status           100\n",
       "location                     63\n",
       "interaction_count             0\n",
       "lead_score                    0\n",
       "converted                     0\n",
       "dtype: int64"
      ]
     },
     "execution_count": 5,
     "metadata": {},
     "output_type": "execute_result"
    }
   ],
   "source": [
    "df.isnull().sum()"
   ]
  },
  {
   "cell_type": "code",
   "execution_count": 10,
   "id": "f8beda4d-f851-492a-b63d-a15458e957f8",
   "metadata": {},
   "outputs": [
    {
     "name": "stdout",
     "output_type": "stream",
     "text": [
      "lead_source:\tobject\n",
      "industry:\tobject\n",
      "number_of_courses_viewed:\tint64\n",
      "annual_income:\tfloat64\n",
      "employment_status:\tobject\n",
      "location:\tobject\n",
      "interaction_count:\tint64\n",
      "lead_score:\tfloat64\n",
      "converted:\tint64\n"
     ]
    }
   ],
   "source": [
    "for col in df.columns:\n",
    "    print(f'{col}:\\t{df.dtypes[col]}')"
   ]
  },
  {
   "cell_type": "code",
   "execution_count": 57,
   "id": "6302ad22-5c9d-498a-afd8-67c5cf12ea07",
   "metadata": {},
   "outputs": [],
   "source": [
    "categorical=[]\n",
    "numerical=[]\n",
    "for col in df.columns:\n",
    "    if df[col].dtypes=='object':\n",
    "        categorical.append(col)\n",
    "    elif df[col].dtypes in ['float64', 'int64']:\n",
    "        numerical.append(col)\n"
   ]
  },
  {
   "cell_type": "code",
   "execution_count": 58,
   "id": "5e61e5d9-883c-4dcf-97cc-fa2eb19d5832",
   "metadata": {},
   "outputs": [
    {
     "data": {
      "text/plain": [
       "['lead_source', 'industry', 'employment_status', 'location']"
      ]
     },
     "execution_count": 58,
     "metadata": {},
     "output_type": "execute_result"
    }
   ],
   "source": [
    "categorical"
   ]
  },
  {
   "cell_type": "code",
   "execution_count": 61,
   "id": "3e5d42b5-bfba-4b4f-8e84-a5d25e9753f2",
   "metadata": {},
   "outputs": [
    {
     "data": {
      "text/plain": [
       "['number_of_courses_viewed',\n",
       " 'annual_income',\n",
       " 'interaction_count',\n",
       " 'lead_score']"
      ]
     },
     "execution_count": 61,
     "metadata": {},
     "output_type": "execute_result"
    }
   ],
   "source": [
    "numerical"
   ]
  },
  {
   "cell_type": "code",
   "execution_count": 60,
   "id": "06d02bbe-1156-449e-a459-a13174fc15e7",
   "metadata": {
    "scrolled": true
   },
   "outputs": [
    {
     "data": {
      "text/plain": [
       "'converted'"
      ]
     },
     "execution_count": 60,
     "metadata": {},
     "output_type": "execute_result"
    }
   ],
   "source": [
    "numerical.pop(4)"
   ]
  },
  {
   "cell_type": "code",
   "execution_count": 24,
   "id": "107e0604-3a4a-4d04-8011-169f7d5fc2af",
   "metadata": {},
   "outputs": [],
   "source": [
    "for col in categorical:\n",
    "    df[col]=df[col].fillna('NA')\n",
    "for col in numerical:\n",
    "    df[col]=df[col].fillna(0)"
   ]
  },
  {
   "cell_type": "code",
   "execution_count": 62,
   "id": "22e62d43-8ced-4f5c-8422-f0a4099e8d41",
   "metadata": {},
   "outputs": [
    {
     "data": {
      "text/plain": [
       "lead_source                 0\n",
       "industry                    0\n",
       "number_of_courses_viewed    0\n",
       "annual_income               0\n",
       "employment_status           0\n",
       "location                    0\n",
       "interaction_count           0\n",
       "lead_score                  0\n",
       "converted                   0\n",
       "dtype: int64"
      ]
     },
     "execution_count": 62,
     "metadata": {},
     "output_type": "execute_result"
    }
   ],
   "source": [
    "df.isnull().sum()"
   ]
  },
  {
   "cell_type": "code",
   "execution_count": 63,
   "id": "6eea61c1-950e-4b5e-9a6a-adc3daa3995c",
   "metadata": {},
   "outputs": [],
   "source": [
    "from sklearn.model_selection import train_test_split"
   ]
  },
  {
   "cell_type": "code",
   "execution_count": 64,
   "id": "2f931e54-3a6b-4ac1-a45f-a255db11a09c",
   "metadata": {},
   "outputs": [],
   "source": [
    "df_full_train, df_test=train_test_split(df,test_size=0.2,random_state=1)\n",
    "df_train, df_val=train_test_split(df_full_train,test_size=0.25,random_state=1)\n"
   ]
  },
  {
   "cell_type": "code",
   "execution_count": 65,
   "id": "5e9ca791-3a32-43b6-b1a7-ed6fd9b73c7b",
   "metadata": {},
   "outputs": [
    {
     "data": {
      "text/plain": [
       "1462"
      ]
     },
     "execution_count": 65,
     "metadata": {},
     "output_type": "execute_result"
    }
   ],
   "source": [
    "len(df)"
   ]
  },
  {
   "cell_type": "code",
   "execution_count": 66,
   "id": "cf5cddfc-c45c-41be-ab71-f4ae33039ce7",
   "metadata": {},
   "outputs": [
    {
     "data": {
      "text/plain": [
       "(1169, 876, 293, 293)"
      ]
     },
     "execution_count": 66,
     "metadata": {},
     "output_type": "execute_result"
    }
   ],
   "source": [
    "len(df_full_train), len(df_train), len(df_test), len(df_val)"
   ]
  },
  {
   "cell_type": "code",
   "execution_count": 67,
   "id": "676f6f3e-668a-4420-ab12-6d0c223c9184",
   "metadata": {},
   "outputs": [
    {
     "data": {
      "text/plain": [
       "0.7995896032831737"
      ]
     },
     "execution_count": 67,
     "metadata": {},
     "output_type": "execute_result"
    }
   ],
   "source": [
    "1169/1462"
   ]
  },
  {
   "cell_type": "code",
   "execution_count": 68,
   "id": "ad7a6b9d-6c4e-40a3-ba73-4e8f5975bfe3",
   "metadata": {},
   "outputs": [
    {
     "data": {
      "text/plain": [
       "0.5991792065663475"
      ]
     },
     "execution_count": 68,
     "metadata": {},
     "output_type": "execute_result"
    }
   ],
   "source": [
    "876/1462"
   ]
  },
  {
   "cell_type": "code",
   "execution_count": 69,
   "id": "d527e318-ed6e-4624-91a9-849944749f92",
   "metadata": {},
   "outputs": [
    {
     "data": {
      "text/plain": [
       "0.20041039671682626"
      ]
     },
     "execution_count": 69,
     "metadata": {},
     "output_type": "execute_result"
    }
   ],
   "source": [
    "293/1462"
   ]
  },
  {
   "cell_type": "code",
   "execution_count": 70,
   "id": "74e918a8-3635-4e97-90d2-d38d39b0c5a9",
   "metadata": {},
   "outputs": [],
   "source": [
    "from sklearn.metrics import roc_auc_score"
   ]
  },
  {
   "cell_type": "code",
   "execution_count": 71,
   "id": "2ed7fc2c-eba3-4419-ab33-98a9750f393a",
   "metadata": {},
   "outputs": [
    {
     "name": "stdout",
     "output_type": "stream",
     "text": [
      "number_of_courses_viewed:0.7635680590007088\n",
      "annual_income:0.5519578313253012\n",
      "interaction_count:0.738270176293409\n",
      "lead_score:0.6144993577250176\n"
     ]
    }
   ],
   "source": [
    "y_train=df_train['converted'].values\n",
    "for col in numerical:\n",
    "    auc=roc_auc_score(y_train,df_train[col])\n",
    "    if auc<0.5:\n",
    "        auc=roc_auc_score(y_train,-df_train[col])\n",
    "    print(f'{col}:{auc}')\n",
    "#negative correlation can be informative, but not auc=0.5 (random)"
   ]
  },
  {
   "cell_type": "code",
   "execution_count": 72,
   "id": "da4ab8a6-47a8-45db-8a82-b36fe2b3cc5d",
   "metadata": {},
   "outputs": [],
   "source": [
    "from sklearn.feature_extraction import DictVectorizer"
   ]
  },
  {
   "cell_type": "code",
   "execution_count": 73,
   "id": "113d74b3-68a0-40c0-a355-9c39a91e1356",
   "metadata": {},
   "outputs": [],
   "source": [
    "from sklearn.linear_model import LogisticRegression"
   ]
  },
  {
   "cell_type": "code",
   "execution_count": 74,
   "id": "8cb26f82-31fc-4ee5-aa93-cc48e868ae50",
   "metadata": {},
   "outputs": [
    {
     "data": {
      "text/html": [
       "<div>\n",
       "<style scoped>\n",
       "    .dataframe tbody tr th:only-of-type {\n",
       "        vertical-align: middle;\n",
       "    }\n",
       "\n",
       "    .dataframe tbody tr th {\n",
       "        vertical-align: top;\n",
       "    }\n",
       "\n",
       "    .dataframe thead th {\n",
       "        text-align: right;\n",
       "    }\n",
       "</style>\n",
       "<table border=\"1\" class=\"dataframe\">\n",
       "  <thead>\n",
       "    <tr style=\"text-align: right;\">\n",
       "      <th></th>\n",
       "      <th>lead_source</th>\n",
       "      <th>industry</th>\n",
       "      <th>number_of_courses_viewed</th>\n",
       "      <th>annual_income</th>\n",
       "      <th>employment_status</th>\n",
       "      <th>location</th>\n",
       "      <th>interaction_count</th>\n",
       "      <th>lead_score</th>\n",
       "      <th>converted</th>\n",
       "    </tr>\n",
       "  </thead>\n",
       "  <tbody>\n",
       "    <tr>\n",
       "      <th>462</th>\n",
       "      <td>events</td>\n",
       "      <td>manufacturing</td>\n",
       "      <td>2</td>\n",
       "      <td>95543.0</td>\n",
       "      <td>unemployed</td>\n",
       "      <td>europe</td>\n",
       "      <td>3</td>\n",
       "      <td>0.78</td>\n",
       "      <td>0</td>\n",
       "    </tr>\n",
       "    <tr>\n",
       "      <th>135</th>\n",
       "      <td>referral</td>\n",
       "      <td>NA</td>\n",
       "      <td>1</td>\n",
       "      <td>54924.0</td>\n",
       "      <td>student</td>\n",
       "      <td>south_america</td>\n",
       "      <td>6</td>\n",
       "      <td>0.39</td>\n",
       "      <td>1</td>\n",
       "    </tr>\n",
       "    <tr>\n",
       "      <th>117</th>\n",
       "      <td>organic_search</td>\n",
       "      <td>healthcare</td>\n",
       "      <td>2</td>\n",
       "      <td>77352.0</td>\n",
       "      <td>unemployed</td>\n",
       "      <td>europe</td>\n",
       "      <td>2</td>\n",
       "      <td>0.22</td>\n",
       "      <td>0</td>\n",
       "    </tr>\n",
       "    <tr>\n",
       "      <th>1051</th>\n",
       "      <td>paid_ads</td>\n",
       "      <td>other</td>\n",
       "      <td>2</td>\n",
       "      <td>34600.0</td>\n",
       "      <td>employed</td>\n",
       "      <td>south_america</td>\n",
       "      <td>2</td>\n",
       "      <td>0.31</td>\n",
       "      <td>0</td>\n",
       "    </tr>\n",
       "    <tr>\n",
       "      <th>945</th>\n",
       "      <td>paid_ads</td>\n",
       "      <td>education</td>\n",
       "      <td>0</td>\n",
       "      <td>43615.0</td>\n",
       "      <td>unemployed</td>\n",
       "      <td>south_america</td>\n",
       "      <td>2</td>\n",
       "      <td>0.01</td>\n",
       "      <td>0</td>\n",
       "    </tr>\n",
       "  </tbody>\n",
       "</table>\n",
       "</div>"
      ],
      "text/plain": [
       "         lead_source       industry  number_of_courses_viewed  annual_income  \\\n",
       "462           events  manufacturing                         2        95543.0   \n",
       "135         referral             NA                         1        54924.0   \n",
       "117   organic_search     healthcare                         2        77352.0   \n",
       "1051        paid_ads          other                         2        34600.0   \n",
       "945         paid_ads      education                         0        43615.0   \n",
       "\n",
       "     employment_status       location  interaction_count  lead_score  \\\n",
       "462         unemployed         europe                  3        0.78   \n",
       "135            student  south_america                  6        0.39   \n",
       "117         unemployed         europe                  2        0.22   \n",
       "1051          employed  south_america                  2        0.31   \n",
       "945         unemployed  south_america                  2        0.01   \n",
       "\n",
       "      converted  \n",
       "462           0  \n",
       "135           1  \n",
       "117           0  \n",
       "1051          0  \n",
       "945           0  "
      ]
     },
     "execution_count": 74,
     "metadata": {},
     "output_type": "execute_result"
    }
   ],
   "source": [
    "df_train.head()"
   ]
  },
  {
   "cell_type": "code",
   "execution_count": 78,
   "id": "ed7f3056-f2f5-42aa-8d14-b4006ef774d1",
   "metadata": {},
   "outputs": [
    {
     "name": "stdout",
     "output_type": "stream",
     "text": [
      "0.817\n"
     ]
    }
   ],
   "source": [
    "dv = DictVectorizer(sparse=False)\n",
    "\n",
    "train_dict = df_train.drop(columns=['converted']).to_dict(orient='records')\n",
    "X_train = dv.fit_transform(train_dict)\n",
    "val_dict = df_val.drop(columns=['converted']).to_dict(orient='records')\n",
    "X_val=dv.transform(val_dict)\n",
    "\n",
    "y_train=df_train['converted'].values\n",
    "y_val=df_val['converted'].values\n",
    "\n",
    "model = LogisticRegression(solver='liblinear', C=1.0, max_iter=1000)\n",
    "model.fit(X_train, y_train)\n",
    "\n",
    "y_val_pred=model.predict_proba(X_val)[:,1]\n",
    "auc=roc_auc_score(y_val,y_val_pred)\n",
    "\n",
    "print(round(auc,3))"
   ]
  },
  {
   "cell_type": "code",
   "execution_count": 80,
   "id": "447719d0-cccb-405a-a461-5e1f2d89540d",
   "metadata": {},
   "outputs": [],
   "source": [
    "from sklearn.metrics import precision_score, recall_score"
   ]
  },
  {
   "cell_type": "code",
   "execution_count": 91,
   "id": "1f9098f0-6e39-432d-beff-c42bc09611ba",
   "metadata": {},
   "outputs": [],
   "source": [
    "threshold = np.arange(0.0, 1.01, 0.01) "
   ]
  },
  {
   "cell_type": "code",
   "execution_count": 94,
   "id": "82d2261a-54d4-466e-956b-83c6f9fbb399",
   "metadata": {},
   "outputs": [],
   "source": [
    "precision_values = []\n",
    "recall_values = []\n",
    "\n",
    "for t in threshold:\n",
    "    y_pred_class = (y_val_pred >= t).astype(int)\n",
    "    precision = precision_score(y_val, y_pred_class, zero_division=0)\n",
    "    recall = recall_score(y_val, y_pred_class, zero_division=0)\n",
    "    \n",
    "    precision_values.append(precision)\n",
    "    recall_values.append(recall)\n",
    "    \n"
   ]
  },
  {
   "cell_type": "code",
   "execution_count": 98,
   "id": "d40ccc8e-5e65-42b1-a779-03e643099ac9",
   "metadata": {},
   "outputs": [
    {
     "data": {
      "image/png": "[encoded data removed]",
      "text/plain": [
       "<Figure size 1000x600 with 1 Axes>"
      ]
     },
     "metadata": {},
     "output_type": "display_data"
    }
   ],
   "source": [
    "plt.figure(figsize=(10,6))\n",
    "plt.plot(threshold, precision_values, label='Precision', color='blue')\n",
    "plt.plot(threshold, recall_values, label='Recall', color='green')\n",
    "plt.xlabel('Threshold')\n",
    "plt.ylabel('Score')\n",
    "plt.title('Precision-Recall vs Threshold')\n",
    "plt.legend()\n",
    "plt.grid(True)\n",
    "plt.show()\n"
   ]
  },
  {
   "cell_type": "code",
   "execution_count": 101,
   "id": "fe449f7b-3ee2-405c-bace-fc369712bb5e",
   "metadata": {},
   "outputs": [],
   "source": [
    "precision_values = np.array(precision_values)\n",
    "recall_values = np.array(recall_values)\n",
    "\n",
    "diff = np.abs(precision_values - recall_values)\n"
   ]
  },
  {
   "cell_type": "code",
   "execution_count": 112,
   "id": "ec4fe05f-8b18-466f-86e6-1daec305d279",
   "metadata": {},
   "outputs": [
    {
     "name": "stdout",
     "output_type": "stream",
     "text": [
      "Intersection point=0.640\n",
      "(Precision,Recall)=(0.779,0.784)\n"
     ]
    }
   ],
   "source": [
    "diff = 0.01\n",
    "intersection_threshold = None\n",
    "\n",
    "for thresh, prec, rec in zip(threshold, precision_values, recall_values):\n",
    "    if abs(prec - rec) <= diff:\n",
    "        intersection = thresh\n",
    "        print(f\"Intersection point={thresh:.3f}\")\n",
    "        print(f\"(Precision,Recall)=({prec:.3f},{rec:.3f})\")\n",
    "        break\n"
   ]
  },
  {
   "cell_type": "code",
   "execution_count": 131,
   "id": "714a6bba-c0a4-450b-a5c3-1ed48bdfa805",
   "metadata": {},
   "outputs": [],
   "source": [
    "precision_values = []\n",
    "recall_values = []\n",
    "f1score=[]\n",
    "for t in threshold:\n",
    "    y_pred_class = (y_val_pred >= t).astype(int)\n",
    "    precision = precision_score(y_val, y_pred_class, zero_division=0)\n",
    "    recall = recall_score(y_val, y_pred_class, zero_division=0)\n",
    "    f1 = (2 * precision * recall) / (precision + recall + 1e-8)  \n",
    "    f1score.append(f1)\n"
   ]
  },
  {
   "cell_type": "code",
   "execution_count": 132,
   "id": "a1253ae4-0e0b-4593-b7c2-e693697ce2db",
   "metadata": {},
   "outputs": [
    {
     "name": "stdout",
     "output_type": "stream",
     "text": [
      "0.8124999950598144\n"
     ]
    }
   ],
   "source": [
    "print(max(f1score))"
   ]
  },
  {
   "cell_type": "code",
   "execution_count": 136,
   "id": "a69e7a79-5547-42f2-afd7-1cb4b3f6f9ea",
   "metadata": {},
   "outputs": [
    {
     "name": "stdout",
     "output_type": "stream",
     "text": [
      "Mean AUC: 0.8221\n",
      "Std AUC: 0.0358\n"
     ]
    }
   ],
   "source": [
    "from sklearn.model_selection import KFold\n",
    "kf = KFold(n_splits=5, shuffle=True, random_state=1)\n",
    "scores = []\n",
    "\n",
    "X_full = df_full_train.drop(columns=['converted'])\n",
    "y_full = (df_full_train['converted'] != 0).astype(int)\n",
    "\n",
    "for train_idx, val_idx in kf.split(X_full):\n",
    "    X_tr = X_full.iloc[train_idx]\n",
    "    X_va = X_full.iloc[val_idx]\n",
    "    y_tr = y_full.iloc[train_idx]\n",
    "    y_va = y_full.iloc[val_idx]\n",
    "\n",
    "    dv = DictVectorizer(sparse=False)\n",
    "    X_tr_enc = dv.fit_transform(X_tr.to_dict(orient='records'))\n",
    "    X_va_enc = dv.transform(X_va.to_dict(orient='records'))\n",
    "\n",
    "    model = LogisticRegression(solver='liblinear', C=1.0, max_iter=1000)\n",
    "    model.fit(X_tr_enc, y_tr)\n",
    "    y_va_pred = model.predict_proba(X_va_enc)[:,1]\n",
    "    auc = roc_auc_score(y_va, y_va_pred)\n",
    "    scores.append(auc)\n",
    "\n",
    "scores = np.array(scores)\n",
    "print(\"Mean AUC:\", round(scores.mean(), 4))\n",
    "print(\"Std AUC:\", round(scores.std(), 4))\n"
   ]
  },
  {
   "cell_type": "code",
   "execution_count": 137,
   "id": "aa0cf508-b66e-468b-832b-7b51bdec395c",
   "metadata": {},
   "outputs": [],
   "source": [
    "Cs = [0.000001, 0.001, 1]\n",
    "results = {}\n",
    "for C in Cs:\n",
    "    fold_scores = []\n",
    "    for train_idx, val_idx in kf.split(X_full):\n",
    "        X_tr = X_full.iloc[train_idx]\n",
    "        X_va = X_full.iloc[val_idx]\n",
    "        y_tr = y_full.iloc[train_idx]\n",
    "        y_va = y_full.iloc[val_idx]\n",
    "\n",
    "        dv = DictVectorizer(sparse=False)\n",
    "        X_tr_enc = dv.fit_transform(X_tr.to_dict(orient='records'))\n",
    "        X_va_enc = dv.transform(X_va.to_dict(orient='records'))\n",
    "\n",
    "        model = LogisticRegression(solver='liblinear', C=C, max_iter=1000)\n",
    "        model.fit(X_tr_enc, y_tr)\n",
    "        y_va_pred = model.predict_proba(X_va_enc)[:,1]\n",
    "        auc = roc_auc_score(y_va, y_va_pred)\n",
    "        fold_scores.append(auc)\n",
    "    fold_scores = np.array(fold_scores)\n",
    "    results[C] = (fold_scores.mean(), fold_scores.std())"
   ]
  },
  {
   "cell_type": "code",
   "execution_count": 138,
   "id": "531fdf3f-4120-4e0d-9772-92ed037c4965",
   "metadata": {},
   "outputs": [
    {
     "name": "stdout",
     "output_type": "stream",
     "text": [
      "C=1e-06: mean=0.56, std=0.024\n",
      "C=0.001: mean=0.867, std=0.029\n",
      "C=1: mean=0.822, std=0.036\n"
     ]
    }
   ],
   "source": [
    "for C,(m,s) in results.items():\n",
    "    print(f\"C={C}: mean={round(m,3)}, std={round(s,3)}\")"
   ]
  },
  {
   "cell_type": "code",
   "execution_count": null,
   "id": "e85c2f3a-b7c4-45d7-a89f-9aea25582586",
   "metadata": {},
   "outputs": [],
   "source": []
  },
  {
   "cell_type": "code",
   "execution_count": null,
   "id": "93ac7d80-7e09-410e-b11d-88251529c1d2",
   "metadata": {},
   "outputs": [],
   "source": []
  }
 ],
 "metadata": {
  "kernelspec": {
   "display_name": "Python 3 (ipykernel)",
   "language": "python",
   "name": "python3"
  },
  "language_info": {
   "codemirror_mode": {
    "name": "ipython",
    "version": 3
   },
   "file_extension": ".py",
   "mimetype": "text/x-python",
   "name": "python",
   "nbconvert_exporter": "python",
   "pygments_lexer": "ipython3",
   "version": "3.12.1"
  }
 },
 "nbformat": 4,
 "nbformat_minor": 5
}
